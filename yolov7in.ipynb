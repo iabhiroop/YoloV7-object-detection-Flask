{
 "cells": [
  {
   "cell_type": "code",
   "execution_count": 140,
   "id": "2bd905d1",
   "metadata": {},
   "outputs": [],
   "source": [
    "import shutil\n",
    "from detect import detect\n",
    "import torch\n",
    "import cv2\n",
    "from PIL import Image\n",
    "import os\n",
    "import pandas as pd\n",
    "from flask import Flask,Response,render_template,request,redirect"
   ]
  },
  {
   "cell_type": "code",
   "execution_count": 141,
   "id": "d50cb41a",
   "metadata": {},
   "outputs": [],
   "source": [
    "app = Flask(__name__)"
   ]
  },
  {
   "cell_type": "code",
   "execution_count": 142,
   "id": "4544aaa3",
   "metadata": {},
   "outputs": [],
   "source": [
    "def find_result(img):\n",
    "    opt = {\"agnostic_nms\":False, \"augment\":False, \n",
    "           \"classes\":None, \"conf_thres\":0.1, \n",
    "           \"device\":'', \"exist_ok\":False, \n",
    "           \"img_size\":224, \"iou_thres\":0.45, \n",
    "           \"name\":'exp', \"no_trace\":True, \"nosave\":False, \n",
    "           \"project\":'runs/detect', \"save_conf\":True, \n",
    "           \"save_txt\":True, \"source\":img, \"update\":False, \n",
    "           \"view_img\":False, \"weights\":['yolov7.pt']}\n",
    "    with torch.no_grad():\n",
    "        res = detect(opt)\n",
    "    return res"
   ]
  },
  {
   "cell_type": "code",
   "execution_count": 143,
   "id": "1a9f6065",
   "metadata": {},
   "outputs": [],
   "source": [
    "@app.route('/')\n",
    "def home():\n",
    "    return render_template('yolo_in_home.html')"
   ]
  },
  {
   "cell_type": "code",
   "execution_count": 144,
   "id": "a527b785",
   "metadata": {},
   "outputs": [],
   "source": [
    "@app.route('/image_upload/',methods=['POST','GET'])\n",
    "def img_():\n",
    "    if request.method == 'POST':\n",
    "        f = request.files['image']\n",
    "        path = f.filename\n",
    "        print(path)\n",
    "        f.save(path)\n",
    "        res = find_result(path)\n",
    "        print(res)\n",
    "        res_1=[i for i in res.keys()]\n",
    "        print(res_1)\n",
    "        result=[str(i+'  '+str(res[i]['total'])) for i in res_1]\n",
    "        print(result)\n",
    "        if len(res_1)==0:\n",
    "            return render_template(\"yolo_result.html\",result=\"One objects detected\")\n",
    "        return render_template(\"yolo_result.html\",result=result)"
   ]
  },
  {
   "cell_type": "code",
   "execution_count": 145,
   "id": "266acc46",
   "metadata": {},
   "outputs": [
    {
     "name": "stdout",
     "output_type": "stream",
     "text": [
      " * Serving Flask app \"__main__\" (lazy loading)\n",
      " * Environment: production\n",
      "\u001b[31m   WARNING: This is a development server. Do not use it in a production deployment.\u001b[0m\n",
      "\u001b[2m   Use a production WSGI server instead.\u001b[0m\n",
      " * Debug mode: off\n"
     ]
    },
    {
     "name": "stderr",
     "output_type": "stream",
     "text": [
      " * Running on http://127.0.0.1:5000/ (Press CTRL+C to quit)\n",
      " * Running on http://127.0.0.1:5000/ (Press CTRL+C to quit)\n",
      "127.0.0.1 - - [16/Feb/2023 21:28:36] \"GET / HTTP/1.1\" 200 -\n",
      "127.0.0.1 - - [16/Feb/2023 21:28:36] \"GET / HTTP/1.1\" 200 -\n",
      "YOLOR  v0.1-115-g072f76c torch 1.12.1+cpu CPU\n",
      "\n"
     ]
    },
    {
     "name": "stdout",
     "output_type": "stream",
     "text": [
      "download.jpg\n",
      "Fusing layers... \n",
      "RepConv.fuse_repvgg_block\n",
      "RepConv.fuse_repvgg_block\n",
      "RepConv.fuse_repvgg_block\n"
     ]
    },
    {
     "name": "stderr",
     "output_type": "stream",
     "text": [
      "Model Summary: 306 layers, 36905341 parameters, 6652669 gradients\n",
      "[2023-02-16 21:28:42,652] ERROR in app: Exception on /image_upload/ [POST]\n",
      "Traceback (most recent call last):\n",
      "  File \"c:\\Users\\sreea\\anaconda3\\lib\\site-packages\\flask\\app.py\", line 2447, in wsgi_app\n",
      "    response = self.full_dispatch_request()\n",
      "  File \"c:\\Users\\sreea\\anaconda3\\lib\\site-packages\\flask\\app.py\", line 1952, in full_dispatch_request\n",
      "    rv = self.handle_user_exception(e)\n",
      "  File \"c:\\Users\\sreea\\anaconda3\\lib\\site-packages\\flask\\app.py\", line 1821, in handle_user_exception\n",
      "    reraise(exc_type, exc_value, tb)\n",
      "  File \"c:\\Users\\sreea\\anaconda3\\lib\\site-packages\\flask\\_compat.py\", line 39, in reraise\n",
      "    raise value\n",
      "  File \"c:\\Users\\sreea\\anaconda3\\lib\\site-packages\\flask\\app.py\", line 1950, in full_dispatch_request\n",
      "    rv = self.dispatch_request()\n",
      "  File \"c:\\Users\\sreea\\anaconda3\\lib\\site-packages\\flask\\app.py\", line 1936, in dispatch_request\n",
      "    return self.view_functions[rule.endpoint](**req.view_args)\n",
      "  File \"C:\\Users\\sreea\\AppData\\Local\\Temp\\ipykernel_7236\\3149888783.py\", line 12, in img_\n",
      "    result=[str(i+'  '+res[i]['total']) for i in res_1]\n",
      "  File \"C:\\Users\\sreea\\AppData\\Local\\Temp\\ipykernel_7236\\3149888783.py\", line 12, in <listcomp>\n",
      "    result=[str(i+'  '+res[i]['total']) for i in res_1]\n",
      "TypeError: can only concatenate str (not \"int\") to str\n",
      "Exception on /image_upload/ [POST]\n",
      "Traceback (most recent call last):\n",
      "  File \"c:\\Users\\sreea\\anaconda3\\lib\\site-packages\\flask\\app.py\", line 2447, in wsgi_app\n",
      "    response = self.full_dispatch_request()\n",
      "  File \"c:\\Users\\sreea\\anaconda3\\lib\\site-packages\\flask\\app.py\", line 1952, in full_dispatch_request\n",
      "    rv = self.handle_user_exception(e)\n",
      "  File \"c:\\Users\\sreea\\anaconda3\\lib\\site-packages\\flask\\app.py\", line 1821, in handle_user_exception\n",
      "    reraise(exc_type, exc_value, tb)\n",
      "  File \"c:\\Users\\sreea\\anaconda3\\lib\\site-packages\\flask\\_compat.py\", line 39, in reraise\n",
      "    raise value\n",
      "  File \"c:\\Users\\sreea\\anaconda3\\lib\\site-packages\\flask\\app.py\", line 1950, in full_dispatch_request\n",
      "    rv = self.dispatch_request()\n",
      "  File \"c:\\Users\\sreea\\anaconda3\\lib\\site-packages\\flask\\app.py\", line 1936, in dispatch_request\n",
      "    return self.view_functions[rule.endpoint](**req.view_args)\n",
      "  File \"C:\\Users\\sreea\\AppData\\Local\\Temp\\ipykernel_7236\\3149888783.py\", line 12, in img_\n",
      "    result=[str(i+'  '+res[i]['total']) for i in res_1]\n",
      "  File \"C:\\Users\\sreea\\AppData\\Local\\Temp\\ipykernel_7236\\3149888783.py\", line 12, in <listcomp>\n",
      "    result=[str(i+'  '+res[i]['total']) for i in res_1]\n",
      "TypeError: can only concatenate str (not \"int\") to str\n",
      "127.0.0.1 - - [16/Feb/2023 21:28:42] \"POST /image_upload/ HTTP/1.1\" 500 -\n",
      "127.0.0.1 - - [16/Feb/2023 21:28:42] \"\u001b[35m\u001b[1mPOST /image_upload/ HTTP/1.1\u001b[0m\" 500 -\n"
     ]
    },
    {
     "name": "stdout",
     "output_type": "stream",
     "text": [
      "1 person, 1 handbag, 1 snowboard, 1 clock, Done. (208.0ms) Inference, (1.0ms) NMS\n",
      " The image with the result is saved in: runs\\detect\\exp29\\download.jpg\n",
      "Done. (0.234s)\n",
      "{'person': {'total': 1, 'bb': [[[0.5844444632530212, 0.5666666626930237, 0.6933333277702332, 0.8622221946716309], 0.754487156867981]]}, 'handbag': {'total': 1, 'bb': [[[0.8311111330986023, 0.7688888907432556, 0.20000000298023224, 0.2933333218097687], 0.10299592465162277]]}, 'snowboard': {'total': 1, 'bb': [[[0.15222221612930298, 0.5, 0.30444443225860596, 0.995555579662323], 0.7527907490730286]]}, 'clock': {'total': 1, 'bb': [[[0.7200000286102295, 0.8188889026641846, 0.04888888821005821, 0.05111110955476761], 0.10100887715816498]]}}\n",
      "['person', 'handbag', 'snowboard', 'clock']\n"
     ]
    }
   ],
   "source": [
    "if __name__=='__main__':\n",
    "    app.run()"
   ]
  }
 ],
 "metadata": {
  "kernelspec": {
   "display_name": "Python 3 (ipykernel)",
   "language": "python",
   "name": "python3"
  },
  "language_info": {
   "codemirror_mode": {
    "name": "ipython",
    "version": 3
   },
   "file_extension": ".py",
   "mimetype": "text/x-python",
   "name": "python",
   "nbconvert_exporter": "python",
   "pygments_lexer": "ipython3",
   "version": "3.8.8"
  },
  "vscode": {
   "interpreter": {
    "hash": "e760b03c53fcdc6cb8e580fb8e9552876eee3baa559b4192a65e6d2ae6a88dcf"
   }
  }
 },
 "nbformat": 4,
 "nbformat_minor": 5
}
